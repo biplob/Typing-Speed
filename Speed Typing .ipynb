{
 "cells": [
  {
   "cell_type": "code",
   "execution_count": 2,
   "id": "6104f8f3",
   "metadata": {},
   "outputs": [
    {
     "name": "stdout",
     "output_type": "stream",
     "text": [
      "Collecting tkintertable\n",
      "  Downloading tkintertable-1.3.3.tar.gz (58 kB)\n",
      "Requirement already satisfied: future in c:\\users\\ns-computer\\anaconda3\\lib\\site-packages (from tkintertable) (0.18.2)\n",
      "Building wheels for collected packages: tkintertable\n",
      "  Building wheel for tkintertable (setup.py): started\n",
      "  Building wheel for tkintertable (setup.py): finished with status 'done'\n",
      "  Created wheel for tkintertable: filename=tkintertable-1.3.3-py3-none-any.whl size=66203 sha256=b648fdf8d14cec78dd9ffe2c7858042b6922c965d6945b06c9c8968f87617c95\n",
      "  Stored in directory: c:\\users\\ns-computer\\appdata\\local\\pip\\cache\\wheels\\f1\\b0\\03\\3835e2ae0367eb95366fe276a2ebfcccb1df43d0b506494364\n",
      "Successfully built tkintertable\n",
      "Installing collected packages: tkintertable\n",
      "Successfully installed tkintertable-1.3.3Note: you may need to restart the kernel to use updated packages.\n",
      "\n"
     ]
    }
   ],
   "source": [
    "# Pip install tkinter table\n",
    "pip install tkintertable"
   ]
  },
  {
   "cell_type": "code",
   "execution_count": 3,
   "id": "9512772d",
   "metadata": {},
   "outputs": [
    {
     "name": "stdout",
     "output_type": "stream",
     "text": [
      "Collecting pytest-timeit\n",
      "  Downloading pytest-timeit-0.3.0.tar.gz (5.4 kB)\n",
      "Requirement already satisfied: pytest>=3.0.0 in c:\\users\\ns-computer\\anaconda3\\lib\\site-packages (from pytest-timeit) (7.1.1)\n",
      "Requirement already satisfied: attrs>=19.2.0 in c:\\users\\ns-computer\\anaconda3\\lib\\site-packages (from pytest>=3.0.0->pytest-timeit) (21.4.0)\n",
      "Requirement already satisfied: iniconfig in c:\\users\\ns-computer\\anaconda3\\lib\\site-packages (from pytest>=3.0.0->pytest-timeit) (1.1.1)\n",
      "Requirement already satisfied: packaging in c:\\users\\ns-computer\\anaconda3\\lib\\site-packages (from pytest>=3.0.0->pytest-timeit) (21.3)\n",
      "Requirement already satisfied: pluggy<2.0,>=0.12 in c:\\users\\ns-computer\\anaconda3\\lib\\site-packages (from pytest>=3.0.0->pytest-timeit) (1.0.0)\n",
      "Requirement already satisfied: py>=1.8.2 in c:\\users\\ns-computer\\anaconda3\\lib\\site-packages (from pytest>=3.0.0->pytest-timeit) (1.11.0)\n",
      "Requirement already satisfied: tomli>=1.0.0 in c:\\users\\ns-computer\\anaconda3\\lib\\site-packages (from pytest>=3.0.0->pytest-timeit) (1.2.2)\n",
      "Requirement already satisfied: atomicwrites>=1.0 in c:\\users\\ns-computer\\anaconda3\\lib\\site-packages (from pytest>=3.0.0->pytest-timeit) (1.4.0)\n",
      "Requirement already satisfied: colorama in c:\\users\\ns-computer\\anaconda3\\lib\\site-packages (from pytest>=3.0.0->pytest-timeit) (0.4.4)\n",
      "Requirement already satisfied: pyparsing!=3.0.5,>=2.0.2 in c:\\users\\ns-computer\\anaconda3\\lib\\site-packages (from packaging->pytest>=3.0.0->pytest-timeit) (3.0.4)\n",
      "Building wheels for collected packages: pytest-timeit\n",
      "  Building wheel for pytest-timeit (setup.py): started\n",
      "  Building wheel for pytest-timeit (setup.py): finished with status 'done'\n",
      "  Created wheel for pytest-timeit: filename=pytest_timeit-0.3.0-py2.py3-none-any.whl size=5481 sha256=fa2b901a9dc38da132b625e842b2267cd73052fb2d5a6edd9b80bf81c6af00a7\n",
      "  Stored in directory: c:\\users\\ns-computer\\appdata\\local\\pip\\cache\\wheels\\f1\\de\\cc\\b4930ec073091d7bbc6ef36a09888b7e5d33157af2ee53e8c2\n",
      "Successfully built pytest-timeit\n",
      "Installing collected packages: pytest-timeit\n",
      "Note: you may need to restart the kernel to use updated packages.\n",
      "Successfully installed pytest-timeit-0.3.0\n"
     ]
    }
   ],
   "source": [
    "# Pip install pytest\n",
    "pip install pytest-timeit"
   ]
  },
  {
   "cell_type": "code",
   "execution_count": null,
   "id": "833f4869",
   "metadata": {},
   "outputs": [
    {
     "name": "stdout",
     "output_type": "stream",
     "text": [
      "Wrong Input\n",
      "Wrong Input\n",
      "Wrong Input\n",
      "73.60620719999997\n",
      "106.37410269999987\n"
     ]
    }
   ],
   "source": [
    "# importing all libraries\n",
    "from tkinter import *\n",
    "from timeit import default_timer as timer\n",
    "import random\n",
    " \n",
    "# creating window using gui\n",
    "window = Tk()\n",
    " \n",
    "# the size of the window is defined\n",
    "window.geometry(\"450x200\")\n",
    " \n",
    "x = 0\n",
    " \n",
    "# defining the function for the test\n",
    "def game():\n",
    "    global x\n",
    " \n",
    "    # loop for destroying the window\n",
    "    # after on test\n",
    "    if x == 0:\n",
    "        window.destroy()\n",
    "        x = x+1\n",
    " \n",
    "    # defining function for results of test\n",
    "    def check_result():\n",
    "        if entry.get() == words[word]:\n",
    " \n",
    "            # here start time is when the window\n",
    "            # is opened and end time is when\n",
    "            # window is destroyed\n",
    "            end = timer()\n",
    " \n",
    "            # we deduct the start time from end\n",
    "            # time and calculate results using\n",
    "            # timeit function\n",
    "            print(end-start)\n",
    "        else:\n",
    "            print(\"Wrong Input\")\n",
    " \n",
    "    words = ['programming', 'coding', 'algorithm',\n",
    "             'systems', 'python', 'software']\n",
    " \n",
    "    # Give random words for testing the speed of user\n",
    "    word = random.randint(0, (len(words)-1))\n",
    " \n",
    "    # start timer using timeit function\n",
    "    start = timer()\n",
    "    windows = Tk()\n",
    "    windows.geometry(\"450x200\")\n",
    " \n",
    "    # use label method of tkinter for labeling in window\n",
    "    x2 = Label(windows, text=words[word], font=\"times 20\")\n",
    " \n",
    "    # place of labeling in window\n",
    "    x2.place(x=150, y=10)\n",
    "    x3 = Label(windows, text=\"Start Typing\", font=\"times 20\")\n",
    "    x3.place(x=10, y=50)\n",
    " \n",
    "    entry = Entry(windows)\n",
    "    entry.place(x=280, y=55)\n",
    " \n",
    "    # buttons to submit output and check results\n",
    "    b2 = Button(windows, text=\"Done\",\n",
    "                command=check_result, width=12, bg='grey')\n",
    "    b2.place(x=150, y=100)\n",
    " \n",
    "    b3 = Button(windows, text=\"Try Again\",\n",
    "                command=game, width=12, bg='grey')\n",
    "    b3.place(x=250, y=100)\n",
    "    windows.mainloop()\n",
    " \n",
    " \n",
    "x1 = Label(window, text=\"Lets start playing..\", font=\"times 20\")\n",
    "x1.place(x=10, y=50)\n",
    " \n",
    "b1 = Button(window, text=\"Go\", command=game, width=12, bg='grey')\n",
    "b1.place(x=150, y=100)\n",
    " \n",
    "# calling window\n",
    "window.mainloop()"
   ]
  },
  {
   "cell_type": "code",
   "execution_count": null,
   "id": "99114401",
   "metadata": {},
   "outputs": [],
   "source": []
  },
  {
   "cell_type": "code",
   "execution_count": null,
   "id": "61f01f2c",
   "metadata": {},
   "outputs": [],
   "source": []
  },
  {
   "cell_type": "code",
   "execution_count": null,
   "id": "f0008c6e",
   "metadata": {},
   "outputs": [],
   "source": []
  },
  {
   "cell_type": "code",
   "execution_count": null,
   "id": "94e7e80e",
   "metadata": {},
   "outputs": [],
   "source": []
  }
 ],
 "metadata": {
  "kernelspec": {
   "display_name": "Python 3 (ipykernel)",
   "language": "python",
   "name": "python3"
  },
  "language_info": {
   "codemirror_mode": {
    "name": "ipython",
    "version": 3
   },
   "file_extension": ".py",
   "mimetype": "text/x-python",
   "name": "python",
   "nbconvert_exporter": "python",
   "pygments_lexer": "ipython3",
   "version": "3.9.12"
  }
 },
 "nbformat": 4,
 "nbformat_minor": 5
}
